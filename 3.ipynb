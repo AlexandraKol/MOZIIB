{
 "cells": [
  {
   "cell_type": "markdown",
   "id": "3da95a7d",
   "metadata": {},
   "source": [
    "Задание 3.\n",
    "\n",
    "(не использовать метод полного перебора ключа)\n",
    "\n",
    "Дана строка закодированная в 16-виде. Данную строку получили путем операции XOR некоторого текста с одним символом. Расшифруйте это сообщение. "
   ]
  },
  {
   "cell_type": "code",
   "execution_count": 6,
   "id": "1847f047",
   "metadata": {},
   "outputs": [
    {
     "name": "stdout",
     "output_type": "stream",
     "text": [
      "19367831362e3d2b2c353d362c783136783336372f343d3c3f3d7839342f39212b782839212b782c303d783a3d2b2c7831362c3d2a3d2b2c\n",
      "An investment in knowledge always pays the best interest\n"
     ]
    }
   ],
   "source": [
    "code = input()\n",
    "\n",
    "res = {}\n",
    "\n",
    "for i in range(0, len(code), 2):\n",
    "    if code[i:i+2] in res.keys():\n",
    "        res[code[i:i+2]] += 1\n",
    "    else:\n",
    "        res[code[i:i+2]] = 1\n",
    "\n",
    "max_value = max(res.values())\n",
    "keys_all = []\n",
    "list(map(lambda key, value:\n",
    "         keys_all.append(key) if value == max_value else (),\n",
    "         res.keys(),\n",
    "         res.values()))\n",
    "\n",
    "\n",
    "def xor(t1, t2):\n",
    "    return int(t1, 16) ^ int(t2, 16)\n",
    "\n",
    "char = 'e'.encode('ascii').hex()\n",
    "keys = list(map(lambda x: hex(xor(char, x)), keys_all))\n",
    "\n",
    "code = list(map(lambda i: code[i:i+2], range(0, len(code), 2)))\n",
    "hex = [[chr(xor(key, a)) for a in code] for key in keys]\n",
    "\n",
    "print(list((map(lambda x: ''.join(x), hex)))[1])"
   ]
  },
  {
   "cell_type": "code",
   "execution_count": null,
   "id": "48e08ddd",
   "metadata": {},
   "outputs": [],
   "source": []
  }
 ],
 "metadata": {
  "kernelspec": {
   "display_name": "Python 3 (ipykernel)",
   "language": "python",
   "name": "python3"
  },
  "language_info": {
   "codemirror_mode": {
    "name": "ipython",
    "version": 3
   },
   "file_extension": ".py",
   "mimetype": "text/x-python",
   "name": "python",
   "nbconvert_exporter": "python",
   "pygments_lexer": "ipython3",
   "version": "3.9.12"
  }
 },
 "nbformat": 4,
 "nbformat_minor": 5
}

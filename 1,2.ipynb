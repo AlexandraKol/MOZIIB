{
 "cells": [
  {
   "cell_type": "markdown",
   "id": "5e892f5c",
   "metadata": {},
   "source": [
    "Задание 1.\n",
    "\n",
    "Напишите функцию конвертации текста, представленном в шестнацеричном виде, в base64."
   ]
  },
  {
   "cell_type": "code",
   "execution_count": 11,
   "id": "302158fb",
   "metadata": {},
   "outputs": [
    {
     "name": "stdout",
     "output_type": "stream",
     "text": [
      "49276d207374756479696e672043727970746f677261706879206c696b6520436c6175646520456c776f6f64205368616e6e6f6e21\n",
      "SSdtIHN0dWR5aW5nIENyeXB0b2dyYXBoeSBsaWtlIENsYXVkZSBFbHdvb2QgU2hhbm5vbiE=\n",
      "\n"
     ]
    }
   ],
   "source": [
    "import codecs\n",
    "\n",
    "code = input()\n",
    "decode = codecs.encode(codecs.decode(code, 'hex'), 'base64').decode()\n",
    "print(decode)"
   ]
  },
  {
   "cell_type": "markdown",
   "id": "d0b46e5e",
   "metadata": {},
   "source": [
    "Задание 2.\n",
    "\n",
    "Напишите функцию, которая принимает в качестве параметров два буфера одинаковой длины и производит операцию XOR над ними."
   ]
  },
  {
   "cell_type": "code",
   "execution_count": 25,
   "id": "00554bbf",
   "metadata": {},
   "outputs": [
    {
     "name": "stdout",
     "output_type": "stream",
     "text": [
      "506561636520416c6c204f7665722054686520576f726c64\n",
      "4949544353551c0111001f010100061a021f010100061a02\n",
      "506561636520416c6c204f7665722054686520576f726c64 xor 4949544353551c0111001f010100061a021f010100061a02 = 192c352036755d6d7d2050776472264e6a7a21566f747666\n"
     ]
    }
   ],
   "source": [
    "a = int(input(), 16)\n",
    "b = int(input(), 16)\n",
    " \n",
    "print(\"{0:x} xor {1:x} = {2:x}\".format(a, b, (a^b)))"
   ]
  }
 ],
 "metadata": {
  "kernelspec": {
   "display_name": "Python 3 (ipykernel)",
   "language": "python",
   "name": "python3"
  },
  "language_info": {
   "codemirror_mode": {
    "name": "ipython",
    "version": 3
   },
   "file_extension": ".py",
   "mimetype": "text/x-python",
   "name": "python",
   "nbconvert_exporter": "python",
   "pygments_lexer": "ipython3",
   "version": "3.9.12"
  }
 },
 "nbformat": 4,
 "nbformat_minor": 5
}
